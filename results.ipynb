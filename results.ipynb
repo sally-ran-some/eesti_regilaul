{
 "cells": [
  {
   "cell_type": "code",
   "execution_count": null,
   "metadata": {},
   "outputs": [],
   "source": [
    "import pandas as pd \n",
    "tilt_df = pd.read_csv(\"vowel_data/tilt.csv\")\n",
    "tilt_df.head()"
   ]
  },
  {
   "cell_type": "code",
   "execution_count": 3,
   "metadata": {},
   "outputs": [
    {
     "name": "stdout",
     "output_type": "stream",
     "text": [
      "<class 'pandas.core.frame.DataFrame'>\n",
      "RangeIndex: 793 entries, 0 to 792\n",
      "Data columns (total 9 columns):\n",
      " #   Column     Non-Null Count  Dtype  \n",
      "---  ------     --------------  -----  \n",
      " 0   Filename   793 non-null    object \n",
      " 1   position   793 non-null    object \n",
      " 2   segment    793 non-null    object \n",
      " 3   syllable   793 non-null    object \n",
      " 4   F1         793 non-null    float64\n",
      " 5   F2         793 non-null    float64\n",
      " 6   F3         793 non-null    float64\n",
      " 7   performer  793 non-null    object \n",
      " 8   euc        793 non-null    float64\n",
      "dtypes: float64(4), object(5)\n",
      "memory usage: 55.9+ KB\n"
     ]
    }
   ],
   "source": [
    "import numpy as np\n",
    "import pandas as pd\n",
    "import math\n",
    "\n",
    "import nltk\n",
    "\n",
    "\n",
    "#load the csv of formant data from PRAAT\n",
    "formants_df = pd.read_csv(\"vowel_data/formants.csv\")\n",
    "formants_df.head()\n",
    "# formants_df[\"index\"] = \n",
    "# formants_df[\"stressed\"] = \" \"\n",
    "# for index in formants_df.index:\n",
    "#     if formants_df.syllable[index] == 1 :\n",
    "#         formants_df.stressed[index] = \"stress\" \n",
    "#     else:\n",
    "#         formants_df.stressed[index] = \"unstressed\"\n",
    "# formants_df.tail()\n",
    "\n",
    "\n",
    "\n",
    "\n",
    "formants_df = formants_df.astype({\"syllable\":\"object\",\"Filename\":\"object\"})\n",
    "\n",
    "# seg_freq = nltk.FreqDist(formants_df.segment)\n",
    "# seg_freq\n",
    "# segments = []\n",
    "# for index, item in enumerate(seg_freq):\n",
    "#     segments.append(item)\n",
    "# print(len(segments))\n",
    "# seg_freq\n",
    "\n",
    "\n",
    "formants_df.info()\n",
    "# Three measures of the relationship between the speaking style and vowel space were used: vowel space area, vowel space dispersion (both following Bradlow et al., 1996) and vowel peripheralization. \n",
    "# Vowel space area was measured as the Euclidean area covered by the triangle defined by the mean of each vowel category. \n",
    "# Vowel space dispersion was measured as the distance of each vowel from the central point in the talker’s F1×F2 space. \n",
    "\n",
    "# #An overall vowel space dispersion value for each talker was then calculated as the mean of these distances. Finally, the extent of peripheralization in clear speech relative to conversational speech was measured for each vowel category separately. Here, the Euclidean distance in the F1×F2 space between the average location of each vowel in conversational and in clear speech was calculated separately for each talker and each vowel category.\n",
    "\n",
    "# corners_df.head()\n",
    "\n"
   ]
  },
  {
   "cell_type": "markdown",
   "metadata": {},
   "source": []
  }
 ],
 "metadata": {
  "interpreter": {
   "hash": "dd9a263a021b7496b06352cb4600e46858ffaf775c6cfeaeaf5f4e380d7237f2"
  },
  "kernelspec": {
   "display_name": "Python 3.9.7 ('soundmines')",
   "language": "python",
   "name": "python3"
  },
  "language_info": {
   "codemirror_mode": {
    "name": "ipython",
    "version": 3
   },
   "file_extension": ".py",
   "mimetype": "text/x-python",
   "name": "python",
   "nbconvert_exporter": "python",
   "pygments_lexer": "ipython3",
   "version": "3.9.7"
  },
  "orig_nbformat": 4
 },
 "nbformat": 4,
 "nbformat_minor": 2
}
